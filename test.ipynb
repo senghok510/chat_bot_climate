{
 "cells": [
  {
   "cell_type": "code",
   "execution_count": 1,
   "id": "b56b0518",
   "metadata": {},
   "outputs": [],
   "source": [
    "import torch"
   ]
  },
  {
   "cell_type": "code",
   "execution_count": 10,
   "id": "54265b3a",
   "metadata": {},
   "outputs": [],
   "source": [
    "import re"
   ]
  },
  {
   "cell_type": "code",
   "execution_count": 1,
   "id": "964e24a4",
   "metadata": {},
   "outputs": [],
   "source": [
    "test = [2,3,4]"
   ]
  },
  {
   "cell_type": "code",
   "execution_count": 9,
   "id": "8169ac3d",
   "metadata": {},
   "outputs": [
    {
     "data": {
      "text/plain": [
       "[2]"
      ]
     },
     "execution_count": 9,
     "metadata": {},
     "output_type": "execute_result"
    }
   ],
   "source": [
    "test[:-2]"
   ]
  },
  {
   "cell_type": "code",
   "execution_count": null,
   "id": "b7754fb3",
   "metadata": {},
   "outputs": [],
   "source": [
    "text = 'a.b.c'\n",
    "re.split(re.escape('.'), text)"
   ]
  },
  {
   "cell_type": "code",
   "execution_count": 13,
   "id": "249a30f5",
   "metadata": {},
   "outputs": [],
   "source": [
    "pattern = '.'"
   ]
  },
  {
   "cell_type": "code",
   "execution_count": null,
   "id": "0bbc641f",
   "metadata": {},
   "outputs": [
    {
     "data": {
      "text/plain": [
       "['a', 'b', 'c']"
      ]
     },
     "execution_count": 18,
     "metadata": {},
     "output_type": "execute_result"
    }
   ],
   "source": []
  },
  {
   "cell_type": "code",
   "execution_count": 2,
   "id": "efda2b2c",
   "metadata": {},
   "outputs": [],
   "source": [
    "import uuid"
   ]
  },
  {
   "cell_type": "code",
   "execution_count": 2,
   "id": "d342d2e3",
   "metadata": {},
   "outputs": [
    {
     "name": "stderr",
     "output_type": "stream",
     "text": [
      "/Users/senghok/Documents/Chat_with_PDF_Chatbot/.myenv/lib/python3.10/site-packages/tqdm/auto.py:21: TqdmWarning: IProgress not found. Please update jupyter and ipywidgets. See https://ipywidgets.readthedocs.io/en/stable/user_install.html\n",
      "  from .autonotebook import tqdm as notebook_tqdm\n",
      "/Users/senghok/Documents/Chat_with_PDF_Chatbot/.myenv/lib/python3.10/site-packages/bitsandbytes/cextension.py:34: UserWarning: The installed version of bitsandbytes was compiled without GPU support. 8-bit optimizers, 8-bit multiplication, and GPU quantization are unavailable.\n",
      "  warn(\"The installed version of bitsandbytes was compiled without GPU support. \"\n"
     ]
    },
    {
     "name": "stdout",
     "output_type": "stream",
     "text": [
      "'NoneType' object has no attribute 'cadam32bit_grad_fp32'\n"
     ]
    }
   ],
   "source": [
    "# Load model directly\n",
    "from transformers import AutoTokenizer, AutoModelForSeq2SeqLM\n",
    "\n",
    "tokenizer = AutoTokenizer.from_pretrained(\"MBZUAI/LaMini-T5-738M\")\n",
    "model = AutoModelForSeq2SeqLM.from_pretrained(\"MBZUAI/LaMini-T5-738M\")"
   ]
  },
  {
   "cell_type": "code",
   "execution_count": 3,
   "id": "a8046fc2",
   "metadata": {},
   "outputs": [],
   "source": [
    "model_name = \"MBZUAI/LaMini-T5-738M\""
   ]
  },
  {
   "cell_type": "code",
   "execution_count": 6,
   "id": "1c3a7b41",
   "metadata": {},
   "outputs": [
    {
     "data": {
      "text/plain": [
       "('LaMini-T5-738M/tokenizer_config.json',\n",
       " 'LaMini-T5-738M/special_tokens_map.json',\n",
       " 'LaMini-T5-738M/spiece.model',\n",
       " 'LaMini-T5-738M/added_tokens.json',\n",
       " 'LaMini-T5-738M/tokenizer.json')"
      ]
     },
     "execution_count": 6,
     "metadata": {},
     "output_type": "execute_result"
    }
   ],
   "source": [
    "tokenizer.save_pretrained(\"LaMini-T5-738M\")\n"
   ]
  },
  {
   "cell_type": "code",
   "execution_count": 1,
   "id": "28d6b8a8",
   "metadata": {},
   "outputs": [],
   "source": [
    "from collections import namedtuple"
   ]
  },
  {
   "cell_type": "code",
   "execution_count": 2,
   "id": "497d5b43",
   "metadata": {},
   "outputs": [],
   "source": [
    "Student = namedtuple('Student', ['name', 'age', 'DOB'])"
   ]
  },
  {
   "cell_type": "code",
   "execution_count": 8,
   "id": "b08ab397",
   "metadata": {},
   "outputs": [
    {
     "data": {
      "text/plain": [
       "_tuplegetter(0, 'Alias for field number 0')"
      ]
     },
     "execution_count": 8,
     "metadata": {},
     "output_type": "execute_result"
    }
   ],
   "source": [
    "Student.name"
   ]
  },
  {
   "cell_type": "code",
   "execution_count": 9,
   "id": "79a1e5de",
   "metadata": {},
   "outputs": [],
   "source": [
    "S = Student(\"Hok\", \"18\", \"375893746\")"
   ]
  },
  {
   "cell_type": "code",
   "execution_count": 13,
   "id": "5a6c27a1",
   "metadata": {},
   "outputs": [],
   "source": [
    "Span = namedtuple('Score', [\"start\", \"end\", \"score\"])"
   ]
  },
  {
   "cell_type": "code",
   "execution_count": 14,
   "id": "a2220fde",
   "metadata": {},
   "outputs": [],
   "source": [
    "results = [\n",
    "    Span(start=0, end=4, score=0.9),   # length 4, score 0.9\n",
    "    Span(start=2, end=5, score=0.95),  # length 3, score 0.95\n",
    "    Span(start=6, end=9, score=0.85),  # length 3, score 0.85\n",
    "    Span(start=10, end=14, score=0.95) # length 4, score 0.95\n",
    "]"
   ]
  },
  {
   "cell_type": "code",
   "execution_count": 24,
   "id": "63fa65b1",
   "metadata": {},
   "outputs": [
    {
     "data": {
      "text/plain": [
       "[Score(start=10, end=14, score=0.95),\n",
       " Score(start=2, end=5, score=0.95),\n",
       " Score(start=0, end=4, score=0.9),\n",
       " Score(start=6, end=9, score=0.85)]"
      ]
     },
     "execution_count": 24,
     "metadata": {},
     "output_type": "execute_result"
    }
   ],
   "source": [
    "sorted_results = sorted(\n",
    "    results,\n",
    "    key=lambda r: (-r.score, -(r.end - r.start), r.start)\n",
    ")\n",
    "sorted_results"
   ]
  },
  {
   "cell_type": "code",
   "execution_count": null,
   "id": "996ca228",
   "metadata": {},
   "outputs": [],
   "source": []
  }
 ],
 "metadata": {
  "kernelspec": {
   "display_name": "chatbot_env",
   "language": "python",
   "name": "python3"
  },
  "language_info": {
   "codemirror_mode": {
    "name": "ipython",
    "version": 3
   },
   "file_extension": ".py",
   "mimetype": "text/x-python",
   "name": "python",
   "nbconvert_exporter": "python",
   "pygments_lexer": "ipython3",
   "version": "3.11.13"
  }
 },
 "nbformat": 4,
 "nbformat_minor": 5
}
